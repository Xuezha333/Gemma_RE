{
 "cells": [
  {
   "cell_type": "code",
   "execution_count": 12,
   "metadata": {},
   "outputs": [],
   "source": [
    "import json\n",
    "import os\n",
    "\n",
    "PROJECT_ROOT = '/root/autodl-tmp/Projects/Gemma_RE/'\n",
    "input_filename = 'semeval/semeval_train.txt'\n",
    "output_filename = '/root/autodl-tmp/Projects/Gemma_RE/gemma_re_y/semeval/semeval_train_processed.jsonl'\n",
    "relation_dict = 'semeval/semeval_rel2id.json'\n",
    "\n",
    "input_file_path = os.path.join(PROJECT_ROOT, input_filename)\n",
    "relation_dict_path = os.path.join(PROJECT_ROOT, relation_dict)"
   ]
  },
  {
   "cell_type": "code",
   "execution_count": 13,
   "metadata": {},
   "outputs": [],
   "source": [
    "def process_training_data_and_save(txt_filepath, dic, output_filepath): \n",
    "    relation_dict = {}\n",
    "    with open(dic, 'r') as jsonl_file:\n",
    "        for line in jsonl_file:\n",
    "            relation_data = json.loads(line)\n",
    "            relation_dict.update(relation_data)\n",
    "\n",
    "    with open(txt_filepath, 'r') as txt_file, open(output_filepath, 'w') as output_file:\n",
    "        for line in txt_file:\n",
    "            data = json.loads(line)\n",
    "            processed_example = {\n",
    "                \"prompt\": \" \".join(data[\"token\"]),\n",
    "                \"completion\": f\"({data['h']['name']}|{data['t']['name']}|{data['relation']})\"\n",
    "            }\n",
    "        \n",
    "            output_file.write(json.dumps(processed_example) + '\\n')\n",
    "     \n"
   ]
  },
  {
   "cell_type": "code",
   "execution_count": 14,
   "metadata": {},
   "outputs": [],
   "source": [
    "process_training_data_and_save(input_file_path, relation_dict_path, output_filename)"
   ]
  }
 ],
 "metadata": {
  "kernelspec": {
   "display_name": "gemma",
   "language": "python",
   "name": "python3"
  },
  "language_info": {
   "codemirror_mode": {
    "name": "ipython",
    "version": 3
   },
   "file_extension": ".py",
   "mimetype": "text/x-python",
   "name": "python",
   "nbconvert_exporter": "python",
   "pygments_lexer": "ipython3",
   "version": "3.8.19"
  }
 },
 "nbformat": 4,
 "nbformat_minor": 2
}
