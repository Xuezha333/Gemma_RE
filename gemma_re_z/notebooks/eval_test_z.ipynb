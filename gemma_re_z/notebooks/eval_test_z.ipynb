{
 "cells": [
  {
   "cell_type": "code",
   "execution_count": 1,
   "metadata": {},
   "outputs": [],
   "source": [
    "import subprocess\n",
    "import os\n",
    "import time\n",
    "\n",
    "result = subprocess.run('bash -c \"source /etc/network_turbo && env | grep proxy\"', shell=True, capture_output=True, text=True)\n",
    "output = result.stdout\n",
    "for line in output.splitlines():\n",
    "    if '=' in line:\n",
    "        var, value = line.split('=', 1)\n",
    "        os.environ[var] = value"
   ]
  },
  {
   "cell_type": "code",
   "execution_count": 2,
   "metadata": {},
   "outputs": [
    {
     "name": "stderr",
     "output_type": "stream",
     "text": [
      "/root/miniconda3/envs/gemma/lib/python3.8/site-packages/tqdm/auto.py:21: TqdmWarning: IProgress not found. Please update jupyter and ipywidgets. See https://ipywidgets.readthedocs.io/en/stable/user_install.html\n",
      "  from .autonotebook import tqdm as notebook_tqdm\n"
     ]
    },
    {
     "name": "stdout",
     "output_type": "stream",
     "text": [
      "Token has not been saved to git credential helper. Pass `add_to_git_credential=True` if you want to set the git credential as well.\n",
      "Token is valid (permission: write).\n",
      "Your token has been saved to /root/.cache/huggingface/token\n",
      "Login successful\n"
     ]
    }
   ],
   "source": [
    "import torch\n",
    "from transformers import AutoTokenizer, AutoModelForCausalLM\n",
    "from huggingface_hub import login\n",
    "from transformers import AutoTokenizer, AutoModelForCausalLM, BitsAndBytesConfig\n",
    "\n",
    "login('YourTokenHere')"
   ]
  },
  {
   "cell_type": "code",
   "execution_count": 3,
   "metadata": {},
   "outputs": [],
   "source": [
    "bnb_config = BitsAndBytesConfig(\n",
    "    load_in_4bit=True,\n",
    "    bnb_4bit_quant_type=\"nf4\",\n",
    "    bnb_4bit_compute_dtype=torch.bfloat16\n",
    ")"
   ]
  },
  {
   "cell_type": "code",
   "execution_count": 4,
   "metadata": {},
   "outputs": [
    {
     "name": "stdout",
     "output_type": "stream",
     "text": [
      "cuda\n"
     ]
    }
   ],
   "source": [
    "# Check if CUDA is available\n",
    "device = torch.device(\"cuda\" if torch.cuda.is_available() else \"cpu\")\n",
    "print(device)\n"
   ]
  },
  {
   "cell_type": "code",
   "execution_count": 5,
   "metadata": {},
   "outputs": [
    {
     "name": "stderr",
     "output_type": "stream",
     "text": [
      "Downloading shards: 100%|██████████| 4/4 [00:09<00:00,  2.27s/it]\n",
      "Gemma's activation function should be approximate GeLU and not exact GeLU.\n",
      "Changing the activation function to `gelu_pytorch_tanh`.if you want to use the legacy `gelu`, edit the `model.config` to set `hidden_activation=gelu`   instead of `hidden_act`. See https://github.com/huggingface/transformers/pull/29402 for more details.\n",
      "Loading checkpoint shards: 100%|██████████| 4/4 [00:06<00:00,  1.70s/it]\n"
     ]
    }
   ],
   "source": [
    "# Define the checkpoint directory\n",
    "checkpoint_path = \"/root/autodl-tmp/Projects/Model_Checkpoints/Checkpoints_Xuezha333_Z/gemma-qlora-re_2024-04-18_10-51-12/checkpoint-6000\"  # Replace with your checkpoint path\n",
    "\n",
    "# Load the tokenizer and the model\n",
    "tokenizer = AutoTokenizer.from_pretrained(checkpoint_path)\n",
    "model = AutoModelForCausalLM.from_pretrained(checkpoint_path,\n",
    "                                             quantization_config=bnb_config,\n",
    "                                             device_map=\"cuda:0\"\n",
    "                                             )\n"
   ]
  },
  {
   "cell_type": "markdown",
   "metadata": {},
   "source": [
    "# yz's eval starts here"
   ]
  },
  {
   "cell_type": "code",
   "execution_count": 6,
   "metadata": {},
   "outputs": [],
   "source": [
    "# read test file\n",
    "# or all test data in a list\n",
    "import json\n",
    "with open('/root/autodl-tmp/Projects/Gemma_RE/gemma_re_z/semeval/semeval_test_processed_cloze.json', 'r') as file:\n",
    "    test_data = [json.loads(line) for line in file.readlines()]"
   ]
  },
  {
   "cell_type": "code",
   "execution_count": 7,
   "metadata": {},
   "outputs": [
    {
     "name": "stdout",
     "output_type": "stream",
     "text": [
      "{'prompt': 'the most common <h> audits </h> about <t> waste </t> and recycling .', 'completion': {'h': 'audits', 't': 'waste', 'relation': 'Message-Topic(e1,e2)'}} <class 'dict'>\n"
     ]
    }
   ],
   "source": [
    "print(test_data[0], type(test_data[0]))"
   ]
  },
  {
   "cell_type": "code",
   "execution_count": 8,
   "metadata": {},
   "outputs": [
    {
     "name": "stderr",
     "output_type": "stream",
     "text": [
      "100%|██████████| 2717/2717 [1:44:46<00:00,  2.31s/it]\n"
     ]
    }
   ],
   "source": [
    "# predict\n",
    "from tqdm import trange\n",
    "test_predict = []\n",
    "time_predict = []\n",
    "for i in trange(len(test_data)):\n",
    "    time.sleep(0.1)\n",
    "    question = test_data[i]['prompt']\n",
    "    formatted_prompt = f\"### Question: {question}\\n### Answer:\"\n",
    "    input_ids = tokenizer.encode(formatted_prompt, return_tensors='pt').to(device)\n",
    "    outputs = model.generate(input_ids, max_length=120, num_return_sequences=1, pad_token_id=tokenizer.eos_token_id)\n",
    "    s = time.time()\n",
    "    generated_text = tokenizer.decode(outputs[0], skip_special_tokens=True)\n",
    "    t = time.time()\n",
    "    time_predict.append(t-s)\n",
    "    test_predict.append(generated_text)"
   ]
  },
  {
   "cell_type": "code",
   "execution_count": 9,
   "metadata": {},
   "outputs": [
    {
     "name": "stdout",
     "output_type": "stream",
     "text": [
      "### Question: the most common <h> audits </h> about <t> waste </t> and recycling .\n",
      "### Answer: {'h': 'audits', 't': 'waste', 'relation': 'Message-Topic(e1,e2)'} <class 'str'>\n"
     ]
    }
   ],
   "source": [
    "print(test_predict[0], type(test_predict[0]))"
   ]
  },
  {
   "cell_type": "code",
   "execution_count": 11,
   "metadata": {},
   "outputs": [],
   "source": [
    "# save predict file\n",
    "with open('data/test_predict_data_c6k.json', 'w', encoding='utf-8') as file:\n",
    "    json.dump(test_predict, file, ensure_ascii=False)"
   ]
  },
  {
   "cell_type": "code",
   "execution_count": 12,
   "metadata": {},
   "outputs": [
    {
     "name": "stdout",
     "output_type": "stream",
     "text": [
      "{'head': 'audits', 'tail': 'audits', 'relation': 'Message-Topic(e1,e2)'} <class 'dict'>\n"
     ]
    }
   ],
   "source": [
    "test_predict_ans = []\n",
    "for line in test_predict:\n",
    "    n = line.find('### Answer: ')\n",
    "    line = line[n+11:]\n",
    "    head_start = line.find(\"'head': \")\n",
    "    head_line = line[head_start+9:]\n",
    "    head_end = head_line.find(\"'\")\n",
    "    head = head_line[:head_end]\n",
    "    tail_start = line.find(\"'tail': \")\n",
    "    tail_line = line[tail_start+9:]\n",
    "    tail_end = tail_line.find(\"'\")\n",
    "    tail = tail_line[:tail_end]\n",
    "    relation_start = line.find(\"'relation': \")\n",
    "    relation_line = line[relation_start+13:]\n",
    "    relation_end = relation_line.find(\"'\")\n",
    "    relation = relation_line[:relation_end]\n",
    "    test_predict_ans.append({'head':head,'tail':tail,'relation':relation})\n",
    "print(test_predict_ans[0], type(test_predict_ans[0]))"
   ]
  },
  {
   "cell_type": "code",
   "execution_count": 13,
   "metadata": {},
   "outputs": [
    {
     "data": {
      "text/plain": [
       "'test_data = [\\'{\"token\": [\"the\", \"most\", \"common\", \"audits\", \"were\", \"about\", \"waste\", \"and\", \"recycling\", \".\"], \"h\": {\"name\": \"audits\", \"pos\": [3, 4]}, \"t\": {\"name\": \"waste\", \"pos\": [6, 7]}, \"relation\": \"Message-Topic(e1,e2)\"}\\',\\n\\'{\"token\": [\"this\", \"thesis\", \"defines\", \"the\", \"clinical\", \"characteristics\", \"of\", \"amyloid\", \"disease\", \".\"], \"h\": {\"name\": \"thesis\", \"pos\": [1, 2]}, \"t\": {\"name\": \"clinical characteristics\", \"pos\": [4, 6]}, \"relation\": \"Message-Topic(e1,e2)\"}\\',\\n\\'{\"token\": [\"this\", \"outline\", \"focuses\", \"on\", \"spirituality\", \",\", \"esotericism\", \",\", \"mysticism\", \",\", \"religion\", \"and/or\", \"parapsychology\", \".\"], \"h\": {\"name\": \"outline\", \"pos\": [1, 2]}, \"t\": {\"name\": \"spirituality\", \"pos\": [4, 5]}, \"relation\": \"Message-Topic(e1,e2)\"}\\',\\n\\'{\"token\": [\"many\", \"of\", \"his\", \"literary\", \"pieces\", \"narrate\", \"and\", \"mention\", \"stories\", \"that\", \"took\", \"place\", \"in\", \"lipa\", \".\"], \"h\": {\"name\": \"pieces\", \"pos\": [4, 5]}, \"t\": {\"name\": \"stories\", \"pos\": [8, 9]}, \"relation\": \"Other\"}\\',\\n\\'{\"token\": [\"news\", \"programs\", \"commented\", \"on\", \"the\", \"violence\", \"from\", \"the\", \"game\", \"and\", \"expressed\", \"worries\", \"on\", \"how\", \"it\", \"would\", \"affect\", \"the\", \"players\", \"\\'\", \"personalities\", \".\"], \"h\": {\"name\": \"news programs\", \"pos\": [0, 2]}, \"t\": {\"name\": \"violence\", \"pos\": [5, 6]}, \"relation\": \"Message-Topic(e1,e2)\"}\\',\\n\\'{\"token\": [\"in\", \"the\", \"article\", \",\", \"the\", \"authors\", \"explore\", \"the\", \"use\", \"of\", \"technology\", \"in\", \"small\", \"pharmacy\", \"chains\", \".\"], \"h\": {\"name\": \"article\", \"pos\": [2, 3]}, \"t\": {\"name\": \"use\", \"pos\": [8, 9]}, \"relation\": \"Message-Topic(e1,e2)\"}\\',\\n\\'{\"token\": [\"the\", \"magazine\", \"was\", \"founded\", \"in\", \"order\", \"to\", \"keep\", \"athletes\", \"serving\", \"as\", \"soldiers\", \"informed\", \"about\", \"their\", \"sport\", \"back\", \"home\", \".\"], \"h\": {\"name\": \"magazine\", \"pos\": [1, 2]}, \"t\": {\"name\": \"sport\", \"pos\": [15, 16]}, \"relation\": \"Other\"}\\']\\n\\ntest_predict = [\\'{\"token\": [\"the\", \"most\", \"common\", \"audits\", \"were\", \"about\", \"waste\", \"and\", \"recycling\", \".\"], \"h\": {\"name\": \"audits\", \"pos\": [3, 4]}, \"t\": {\"name\": \"waste\", \"pos\": [6, 7]}, \"relation\": \"Message-Topic(e1,e2)\"}\\',\\n\\'{\"token\": [\"this\", \"thesis\", \"defines\", \"the\", \"clinical\", \"characteristics\", \"of\", \"amyloid\", \"disease\", \".\"], \"h\": {\"name\": \"the\", \"pos\": [1, 2]}, \"t\": {\"name\": \"clinical characteristics\", \"pos\": [4, 6]}, \"relation\": \"Message-Topic(e1,e2)\"}\\',\\n\\'{\"token\": [\"this\", \"outline\", \"focuses\", \"on\", \"spirituality\", \",\", \"esotericism\", \",\", \"mysticism\", \",\", \"religion\", \"and/or\", \"parapsychology\", \".\"], \"h\": {\"name\": \"outline\", \"pos\": [1, 2]}, \"t\": {\"name\": \"spirituality\", \"pos\": [4, 5]}, \"relation\": \"Message-Topic(e1,e2)\"}\\',\\n\\'{\"token\": [\"many\", \"of\", \"his\", \"literary\", \"pieces\", \"narrate\", \"and\", \"mention\", \"stories\", \"that\", \"took\", \"place\", \"in\", \"lipa\", \".\"], \"h\": {\"name\": \"pieces\", \"pos\": [4, 5]}, \"t\": {\"name\": \"stories\", \"pos\": [8, 9]}, \"relation\": \"Message-Topic(e1,e2)\"}\\',\\n\\'{\"token\": [\"news\", \"programs\", \"commented\", \"on\", \"the\", \"violence\", \"from\", \"the\", \"game\", \"and\", \"expressed\", \"worries\", \"on\", \"how\", \"it\", \"would\", \"affect\", \"the\", \"players\", \"\\'\", \"personalities\", \".\"], \"h\": {\"name\": \"news programs\", \"pos\": [0, 2]}, \"t\": {\"name\": \"violence\", \"pos\": [5, 6]}, \"relation\": \"Other\"}\\',\\n\\'{\"token\": [\"in\", \"the\", \"article\", \",\", \"the\", \"authors\", \"explore\", \"the\", \"use\", \"of\", \"technology\", \"in\", \"small\", \"pharmacy\", \"chains\", \".\"], \"h\": {\"name\": \"article\", \"pos\": [2, 3]}, \"t\": {\"name\": \"use\", \"pos\": [8, 9]}, \"relation\": \"Other\"}\\',\\n\\'{\"token\": [\"the\", \"magazine\", \"was\", \"founded\", \"in\", \"order\", \"to\", \"keep\", \"athletes\", \"serving\", \"as\", \"soldiers\", \"informed\", \"about\", \"their\", \"sport\", \"back\", \"home\", \".\"], \"h\": {\"name\": \"magazine\", \"pos\": [1, 2]}, \"t\": {\"name\": \"sport\", \"pos\": [15, 16]}, \"relation\": \"Other\"}\\']'"
      ]
     },
     "execution_count": 13,
     "metadata": {},
     "output_type": "execute_result"
    }
   ],
   "source": [
    "'''test_data = ['{\"token\": [\"the\", \"most\", \"common\", \"audits\", \"were\", \"about\", \"waste\", \"and\", \"recycling\", \".\"], \"h\": {\"name\": \"audits\", \"pos\": [3, 4]}, \"t\": {\"name\": \"waste\", \"pos\": [6, 7]}, \"relation\": \"Message-Topic(e1,e2)\"}',\n",
    "'{\"token\": [\"this\", \"thesis\", \"defines\", \"the\", \"clinical\", \"characteristics\", \"of\", \"amyloid\", \"disease\", \".\"], \"h\": {\"name\": \"thesis\", \"pos\": [1, 2]}, \"t\": {\"name\": \"clinical characteristics\", \"pos\": [4, 6]}, \"relation\": \"Message-Topic(e1,e2)\"}',\n",
    "'{\"token\": [\"this\", \"outline\", \"focuses\", \"on\", \"spirituality\", \",\", \"esotericism\", \",\", \"mysticism\", \",\", \"religion\", \"and/or\", \"parapsychology\", \".\"], \"h\": {\"name\": \"outline\", \"pos\": [1, 2]}, \"t\": {\"name\": \"spirituality\", \"pos\": [4, 5]}, \"relation\": \"Message-Topic(e1,e2)\"}',\n",
    "'{\"token\": [\"many\", \"of\", \"his\", \"literary\", \"pieces\", \"narrate\", \"and\", \"mention\", \"stories\", \"that\", \"took\", \"place\", \"in\", \"lipa\", \".\"], \"h\": {\"name\": \"pieces\", \"pos\": [4, 5]}, \"t\": {\"name\": \"stories\", \"pos\": [8, 9]}, \"relation\": \"Other\"}',\n",
    "'{\"token\": [\"news\", \"programs\", \"commented\", \"on\", \"the\", \"violence\", \"from\", \"the\", \"game\", \"and\", \"expressed\", \"worries\", \"on\", \"how\", \"it\", \"would\", \"affect\", \"the\", \"players\", \"\\'\", \"personalities\", \".\"], \"h\": {\"name\": \"news programs\", \"pos\": [0, 2]}, \"t\": {\"name\": \"violence\", \"pos\": [5, 6]}, \"relation\": \"Message-Topic(e1,e2)\"}',\n",
    "'{\"token\": [\"in\", \"the\", \"article\", \",\", \"the\", \"authors\", \"explore\", \"the\", \"use\", \"of\", \"technology\", \"in\", \"small\", \"pharmacy\", \"chains\", \".\"], \"h\": {\"name\": \"article\", \"pos\": [2, 3]}, \"t\": {\"name\": \"use\", \"pos\": [8, 9]}, \"relation\": \"Message-Topic(e1,e2)\"}',\n",
    "'{\"token\": [\"the\", \"magazine\", \"was\", \"founded\", \"in\", \"order\", \"to\", \"keep\", \"athletes\", \"serving\", \"as\", \"soldiers\", \"informed\", \"about\", \"their\", \"sport\", \"back\", \"home\", \".\"], \"h\": {\"name\": \"magazine\", \"pos\": [1, 2]}, \"t\": {\"name\": \"sport\", \"pos\": [15, 16]}, \"relation\": \"Other\"}']\n",
    "\n",
    "test_predict = ['{\"token\": [\"the\", \"most\", \"common\", \"audits\", \"were\", \"about\", \"waste\", \"and\", \"recycling\", \".\"], \"h\": {\"name\": \"audits\", \"pos\": [3, 4]}, \"t\": {\"name\": \"waste\", \"pos\": [6, 7]}, \"relation\": \"Message-Topic(e1,e2)\"}',\n",
    "'{\"token\": [\"this\", \"thesis\", \"defines\", \"the\", \"clinical\", \"characteristics\", \"of\", \"amyloid\", \"disease\", \".\"], \"h\": {\"name\": \"the\", \"pos\": [1, 2]}, \"t\": {\"name\": \"clinical characteristics\", \"pos\": [4, 6]}, \"relation\": \"Message-Topic(e1,e2)\"}',\n",
    "'{\"token\": [\"this\", \"outline\", \"focuses\", \"on\", \"spirituality\", \",\", \"esotericism\", \",\", \"mysticism\", \",\", \"religion\", \"and/or\", \"parapsychology\", \".\"], \"h\": {\"name\": \"outline\", \"pos\": [1, 2]}, \"t\": {\"name\": \"spirituality\", \"pos\": [4, 5]}, \"relation\": \"Message-Topic(e1,e2)\"}',\n",
    "'{\"token\": [\"many\", \"of\", \"his\", \"literary\", \"pieces\", \"narrate\", \"and\", \"mention\", \"stories\", \"that\", \"took\", \"place\", \"in\", \"lipa\", \".\"], \"h\": {\"name\": \"pieces\", \"pos\": [4, 5]}, \"t\": {\"name\": \"stories\", \"pos\": [8, 9]}, \"relation\": \"Message-Topic(e1,e2)\"}',\n",
    "'{\"token\": [\"news\", \"programs\", \"commented\", \"on\", \"the\", \"violence\", \"from\", \"the\", \"game\", \"and\", \"expressed\", \"worries\", \"on\", \"how\", \"it\", \"would\", \"affect\", \"the\", \"players\", \"\\'\", \"personalities\", \".\"], \"h\": {\"name\": \"news programs\", \"pos\": [0, 2]}, \"t\": {\"name\": \"violence\", \"pos\": [5, 6]}, \"relation\": \"Other\"}',\n",
    "'{\"token\": [\"in\", \"the\", \"article\", \",\", \"the\", \"authors\", \"explore\", \"the\", \"use\", \"of\", \"technology\", \"in\", \"small\", \"pharmacy\", \"chains\", \".\"], \"h\": {\"name\": \"article\", \"pos\": [2, 3]}, \"t\": {\"name\": \"use\", \"pos\": [8, 9]}, \"relation\": \"Other\"}',\n",
    "'{\"token\": [\"the\", \"magazine\", \"was\", \"founded\", \"in\", \"order\", \"to\", \"keep\", \"athletes\", \"serving\", \"as\", \"soldiers\", \"informed\", \"about\", \"their\", \"sport\", \"back\", \"home\", \".\"], \"h\": {\"name\": \"magazine\", \"pos\": [1, 2]}, \"t\": {\"name\": \"sport\", \"pos\": [15, 16]}, \"relation\": \"Other\"}']'''\n"
   ]
  },
  {
   "cell_type": "code",
   "execution_count": 13,
   "metadata": {},
   "outputs": [
    {
     "data": {
      "text/html": [
       "<div>\n",
       "<style scoped>\n",
       "    .dataframe tbody tr th:only-of-type {\n",
       "        vertical-align: middle;\n",
       "    }\n",
       "\n",
       "    .dataframe tbody tr th {\n",
       "        vertical-align: top;\n",
       "    }\n",
       "\n",
       "    .dataframe thead th {\n",
       "        text-align: right;\n",
       "    }\n",
       "</style>\n",
       "<table border=\"1\" class=\"dataframe\">\n",
       "  <thead>\n",
       "    <tr style=\"text-align: right;\">\n",
       "      <th></th>\n",
       "      <th>ans</th>\n",
       "      <th>predict</th>\n",
       "    </tr>\n",
       "  </thead>\n",
       "  <tbody>\n",
       "    <tr>\n",
       "      <th>0</th>\n",
       "      <td>{'prompt': 'the most common &lt;h&gt; audits &lt;/h&gt; ab...</td>\n",
       "      <td>{'head': 'audits', 'tail': 'audits', 'relation...</td>\n",
       "    </tr>\n",
       "    <tr>\n",
       "      <th>1</th>\n",
       "      <td>{'prompt': 'this &lt;h&gt; thesis &lt;/h&gt; the &lt;t&gt; clini...</td>\n",
       "      <td>{'head': 'thesis', 'tail': 'thesis', 'relation...</td>\n",
       "    </tr>\n",
       "    <tr>\n",
       "      <th>2</th>\n",
       "      <td>{'prompt': 'this &lt;h&gt; outline &lt;/h&gt; on &lt;t&gt; spiri...</td>\n",
       "      <td>{'head': 'outline', 'tail': 'outline', 'relati...</td>\n",
       "    </tr>\n",
       "    <tr>\n",
       "      <th>3</th>\n",
       "      <td>{'prompt': 'many of his literary &lt;h&gt; pieces &lt;/...</td>\n",
       "      <td>{'head': 'pieces', 'tail': 'pieces', 'relation...</td>\n",
       "    </tr>\n",
       "    <tr>\n",
       "      <th>4</th>\n",
       "      <td>{'prompt': '&lt;h&gt; news programs &lt;/h&gt; on the &lt;t&gt; ...</td>\n",
       "      <td>{'head': 'news programs', 'tail': 'news progra...</td>\n",
       "    </tr>\n",
       "    <tr>\n",
       "      <th>...</th>\n",
       "      <td>...</td>\n",
       "      <td>...</td>\n",
       "    </tr>\n",
       "    <tr>\n",
       "      <th>2712</th>\n",
       "      <td>{'prompt': 'congress &lt;h&gt; workers &lt;/h&gt; with col...</td>\n",
       "      <td>{'head': 'workers', 'tail': 'workers', 'relati...</td>\n",
       "    </tr>\n",
       "    <tr>\n",
       "      <th>2713</th>\n",
       "      <td>{'prompt': 'the teacher always assigned &lt;h&gt; st...</td>\n",
       "      <td>{'head': 'students', 'tail': 'students', 'rela...</td>\n",
       "    </tr>\n",
       "    <tr>\n",
       "      <th>2714</th>\n",
       "      <td>{'prompt': 'the &lt;h&gt; dean &lt;/h&gt; the &lt;t&gt; faculty ...</td>\n",
       "      <td>{'head': 'dean', 'tail': 'dean', 'relation': '...</td>\n",
       "    </tr>\n",
       "    <tr>\n",
       "      <th>2715</th>\n",
       "      <td>{'prompt': 'and they learned that lenin was th...</td>\n",
       "      <td>{'head': 'leader', 'tail': 'leader', 'relation...</td>\n",
       "    </tr>\n",
       "    <tr>\n",
       "      <th>2716</th>\n",
       "      <td>{'prompt': 'a few days before the service , to...</td>\n",
       "      <td>{'head': 'casket', 'tail': 'casket', 'relation...</td>\n",
       "    </tr>\n",
       "  </tbody>\n",
       "</table>\n",
       "<p>2717 rows × 2 columns</p>\n",
       "</div>"
      ],
      "text/plain": [
       "                                                    ans  \\\n",
       "0     {'prompt': 'the most common <h> audits </h> ab...   \n",
       "1     {'prompt': 'this <h> thesis </h> the <t> clini...   \n",
       "2     {'prompt': 'this <h> outline </h> on <t> spiri...   \n",
       "3     {'prompt': 'many of his literary <h> pieces </...   \n",
       "4     {'prompt': '<h> news programs </h> on the <t> ...   \n",
       "...                                                 ...   \n",
       "2712  {'prompt': 'congress <h> workers </h> with col...   \n",
       "2713  {'prompt': 'the teacher always assigned <h> st...   \n",
       "2714  {'prompt': 'the <h> dean </h> the <t> faculty ...   \n",
       "2715  {'prompt': 'and they learned that lenin was th...   \n",
       "2716  {'prompt': 'a few days before the service , to...   \n",
       "\n",
       "                                                predict  \n",
       "0     {'head': 'audits', 'tail': 'audits', 'relation...  \n",
       "1     {'head': 'thesis', 'tail': 'thesis', 'relation...  \n",
       "2     {'head': 'outline', 'tail': 'outline', 'relati...  \n",
       "3     {'head': 'pieces', 'tail': 'pieces', 'relation...  \n",
       "4     {'head': 'news programs', 'tail': 'news progra...  \n",
       "...                                                 ...  \n",
       "2712  {'head': 'workers', 'tail': 'workers', 'relati...  \n",
       "2713  {'head': 'students', 'tail': 'students', 'rela...  \n",
       "2714  {'head': 'dean', 'tail': 'dean', 'relation': '...  \n",
       "2715  {'head': 'leader', 'tail': 'leader', 'relation...  \n",
       "2716  {'head': 'casket', 'tail': 'casket', 'relation...  \n",
       "\n",
       "[2717 rows x 2 columns]"
      ]
     },
     "execution_count": 13,
     "metadata": {},
     "output_type": "execute_result"
    }
   ],
   "source": [
    "import pandas as pd\n",
    "data = pd.DataFrame({'ans':test_data,'predict':test_predict_ans})\n",
    "data"
   ]
  },
  {
   "cell_type": "code",
   "execution_count": 15,
   "metadata": {},
   "outputs": [],
   "source": [
    "#len(groups[groups['ans']=='1'])"
   ]
  },
  {
   "cell_type": "code",
   "execution_count": 16,
   "metadata": {},
   "outputs": [],
   "source": [
    "#groups[(groups['ans']=='1') & (groups['predict']=='1')]"
   ]
  },
  {
   "cell_type": "code",
   "execution_count": 14,
   "metadata": {},
   "outputs": [
    {
     "data": {
      "text/html": [
       "<div>\n",
       "<style scoped>\n",
       "    .dataframe tbody tr th:only-of-type {\n",
       "        vertical-align: middle;\n",
       "    }\n",
       "\n",
       "    .dataframe tbody tr th {\n",
       "        vertical-align: top;\n",
       "    }\n",
       "\n",
       "    .dataframe thead th {\n",
       "        text-align: right;\n",
       "    }\n",
       "</style>\n",
       "<table border=\"1\" class=\"dataframe\">\n",
       "  <thead>\n",
       "    <tr style=\"text-align: right;\">\n",
       "      <th></th>\n",
       "      <th>ans</th>\n",
       "      <th>predict</th>\n",
       "      <th>a_relation</th>\n",
       "      <th>p_relation</th>\n",
       "    </tr>\n",
       "  </thead>\n",
       "  <tbody>\n",
       "    <tr>\n",
       "      <th>0</th>\n",
       "      <td>{'prompt': 'the most common &lt;h&gt; audits &lt;/h&gt; ab...</td>\n",
       "      <td>{'head': 'audits', 'tail': 'audits', 'relation...</td>\n",
       "      <td>Message-Topic(e1,e2)</td>\n",
       "      <td>Message-Topic(e1,e2)</td>\n",
       "    </tr>\n",
       "    <tr>\n",
       "      <th>1</th>\n",
       "      <td>{'prompt': 'this &lt;h&gt; thesis &lt;/h&gt; the &lt;t&gt; clini...</td>\n",
       "      <td>{'head': 'thesis', 'tail': 'thesis', 'relation...</td>\n",
       "      <td>Message-Topic(e1,e2)</td>\n",
       "      <td>Message-Topic(e1,e2)</td>\n",
       "    </tr>\n",
       "    <tr>\n",
       "      <th>2</th>\n",
       "      <td>{'prompt': 'this &lt;h&gt; outline &lt;/h&gt; on &lt;t&gt; spiri...</td>\n",
       "      <td>{'head': 'outline', 'tail': 'outline', 'relati...</td>\n",
       "      <td>Message-Topic(e1,e2)</td>\n",
       "      <td>Message-Topic(e1,e2)</td>\n",
       "    </tr>\n",
       "    <tr>\n",
       "      <th>3</th>\n",
       "      <td>{'prompt': 'many of his literary &lt;h&gt; pieces &lt;/...</td>\n",
       "      <td>{'head': 'pieces', 'tail': 'pieces', 'relation...</td>\n",
       "      <td>Message-Topic(e1,e2)</td>\n",
       "      <td>Message-Topic(e1,e2)</td>\n",
       "    </tr>\n",
       "    <tr>\n",
       "      <th>4</th>\n",
       "      <td>{'prompt': '&lt;h&gt; news programs &lt;/h&gt; on the &lt;t&gt; ...</td>\n",
       "      <td>{'head': 'news programs', 'tail': 'news progra...</td>\n",
       "      <td>Message-Topic(e1,e2)</td>\n",
       "      <td>Message-Topic(e1,e2)</td>\n",
       "    </tr>\n",
       "    <tr>\n",
       "      <th>...</th>\n",
       "      <td>...</td>\n",
       "      <td>...</td>\n",
       "      <td>...</td>\n",
       "      <td>...</td>\n",
       "    </tr>\n",
       "    <tr>\n",
       "      <th>2712</th>\n",
       "      <td>{'prompt': 'congress &lt;h&gt; workers &lt;/h&gt; with col...</td>\n",
       "      <td>{'head': 'workers', 'tail': 'workers', 'relati...</td>\n",
       "      <td>Member-Collection(e1,e2)</td>\n",
       "      <td>Entity-Origin(e1,e2)</td>\n",
       "    </tr>\n",
       "    <tr>\n",
       "      <th>2713</th>\n",
       "      <td>{'prompt': 'the teacher always assigned &lt;h&gt; st...</td>\n",
       "      <td>{'head': 'students', 'tail': 'students', 'rela...</td>\n",
       "      <td>Member-Collection(e1,e2)</td>\n",
       "      <td>Member-Collection(e1,e2)</td>\n",
       "    </tr>\n",
       "    <tr>\n",
       "      <th>2714</th>\n",
       "      <td>{'prompt': 'the &lt;h&gt; dean &lt;/h&gt; the &lt;t&gt; faculty ...</td>\n",
       "      <td>{'head': 'dean', 'tail': 'dean', 'relation': '...</td>\n",
       "      <td>Member-Collection(e1,e2)</td>\n",
       "      <td>Member-Collection(e1,e2)</td>\n",
       "    </tr>\n",
       "    <tr>\n",
       "      <th>2715</th>\n",
       "      <td>{'prompt': 'and they learned that lenin was th...</td>\n",
       "      <td>{'head': 'leader', 'tail': 'leader', 'relation...</td>\n",
       "      <td>Member-Collection(e1,e2)</td>\n",
       "      <td>Member-Collection(e1,e2)</td>\n",
       "    </tr>\n",
       "    <tr>\n",
       "      <th>2716</th>\n",
       "      <td>{'prompt': 'a few days before the service , to...</td>\n",
       "      <td>{'head': 'casket', 'tail': 'casket', 'relation...</td>\n",
       "      <td>Entity-Destination(e2,e1)</td>\n",
       "      <td>Content-Container(e2,e1)</td>\n",
       "    </tr>\n",
       "  </tbody>\n",
       "</table>\n",
       "<p>2717 rows × 4 columns</p>\n",
       "</div>"
      ],
      "text/plain": [
       "                                                    ans  \\\n",
       "0     {'prompt': 'the most common <h> audits </h> ab...   \n",
       "1     {'prompt': 'this <h> thesis </h> the <t> clini...   \n",
       "2     {'prompt': 'this <h> outline </h> on <t> spiri...   \n",
       "3     {'prompt': 'many of his literary <h> pieces </...   \n",
       "4     {'prompt': '<h> news programs </h> on the <t> ...   \n",
       "...                                                 ...   \n",
       "2712  {'prompt': 'congress <h> workers </h> with col...   \n",
       "2713  {'prompt': 'the teacher always assigned <h> st...   \n",
       "2714  {'prompt': 'the <h> dean </h> the <t> faculty ...   \n",
       "2715  {'prompt': 'and they learned that lenin was th...   \n",
       "2716  {'prompt': 'a few days before the service , to...   \n",
       "\n",
       "                                                predict  \\\n",
       "0     {'head': 'audits', 'tail': 'audits', 'relation...   \n",
       "1     {'head': 'thesis', 'tail': 'thesis', 'relation...   \n",
       "2     {'head': 'outline', 'tail': 'outline', 'relati...   \n",
       "3     {'head': 'pieces', 'tail': 'pieces', 'relation...   \n",
       "4     {'head': 'news programs', 'tail': 'news progra...   \n",
       "...                                                 ...   \n",
       "2712  {'head': 'workers', 'tail': 'workers', 'relati...   \n",
       "2713  {'head': 'students', 'tail': 'students', 'rela...   \n",
       "2714  {'head': 'dean', 'tail': 'dean', 'relation': '...   \n",
       "2715  {'head': 'leader', 'tail': 'leader', 'relation...   \n",
       "2716  {'head': 'casket', 'tail': 'casket', 'relation...   \n",
       "\n",
       "                     a_relation                p_relation  \n",
       "0          Message-Topic(e1,e2)      Message-Topic(e1,e2)  \n",
       "1          Message-Topic(e1,e2)      Message-Topic(e1,e2)  \n",
       "2          Message-Topic(e1,e2)      Message-Topic(e1,e2)  \n",
       "3          Message-Topic(e1,e2)      Message-Topic(e1,e2)  \n",
       "4          Message-Topic(e1,e2)      Message-Topic(e1,e2)  \n",
       "...                         ...                       ...  \n",
       "2712   Member-Collection(e1,e2)      Entity-Origin(e1,e2)  \n",
       "2713   Member-Collection(e1,e2)  Member-Collection(e1,e2)  \n",
       "2714   Member-Collection(e1,e2)  Member-Collection(e1,e2)  \n",
       "2715   Member-Collection(e1,e2)  Member-Collection(e1,e2)  \n",
       "2716  Entity-Destination(e2,e1)  Content-Container(e2,e1)  \n",
       "\n",
       "[2717 rows x 4 columns]"
      ]
     },
     "execution_count": 14,
     "metadata": {},
     "output_type": "execute_result"
    }
   ],
   "source": [
    "a_relation = []\n",
    "p_relation = []\n",
    "for i in range(len(data)):\n",
    "    a_relation.append(data['ans'][i]['completion']['relation'])\n",
    "    p_relation.append(data['predict'][i]['relation'])\n",
    "data['a_relation'] = a_relation\n",
    "data['p_relation'] = p_relation\n",
    "data\n"
   ]
  },
  {
   "cell_type": "code",
   "execution_count": 31,
   "metadata": {},
   "outputs": [
    {
     "data": {
      "text/plain": [
       "{'head': '### Question: the <h> man </h> on the <t> roof </t> all day .\\n### Answer: {',\n",
       " 'tail': '### Question: the <h> man </h> on the <t> roof </t> all day .\\n### Answer: {',\n",
       " 'relation': 'Question: the <h> man </h> on the <t> roof </t> all day .\\n### Answer: {'}"
      ]
     },
     "execution_count": 31,
     "metadata": {},
     "output_type": "execute_result"
    }
   ],
   "source": [
    "data.iloc[919]['predict']"
   ]
  },
  {
   "cell_type": "code",
   "execution_count": 32,
   "metadata": {},
   "outputs": [
    {
     "name": "stdout",
     "output_type": "stream",
     "text": [
      "Error:p_relation row454\n",
      "Material-Source(e1,e2)\n",
      "Error:p_relation row850\n",
      "Source-Destination(e1,e2)\n",
      "Error:p_relation row919\n",
      "Question: the <h> man </h> on the <t> roof </t> all day .\n",
      "### Answer: {\n",
      "Error:p_relation row960\n",
      "Element-Whole(e1,e2)\n",
      "Error:p_relation row1409\n",
      "ederacy\n",
      "Error:p_relation row1437\n",
      "Entry-into-force(e1,e2)\n",
      "Error:p_relation row1487\n",
      "Ingredient-Producer(e1,e2)\n",
      "Error:p_relation row1534\n",
      "Time-Oriented\n",
      "Error:p_relation row1546\n",
      "Material-Origin(e1,e2)\n",
      "Error:p_relation row1617\n",
      "Timescale-Other\n",
      "Error:p_relation row1625\n",
      "Condition-Status\n",
      "Error:p_relation row1686\n",
      "Time-Series(e1,e2)\n",
      "Error:p_relation row1796\n",
      "Ingredient-Origin(e1,e2)\n",
      "Error:p_relation row1836\n",
      "Time-Duration(e1,e2)\n",
      "Error:p_relation row1864\n",
      "Emotion-Event(e1,e2)\n",
      "Error:p_relation row1876\n",
      "Element-of-Collection(e1,e2)\n",
      "Error:p_relation row1894\n",
      "Starting-At(e1,e2)\n",
      "Error:p_relation row1965\n",
      "From-Entity-Origin(e1,e2)\n",
      "Error:p_relation row2015\n",
      "Origin-Source(e1,e2)\n",
      "Error:p_relation row2026\n",
      "Time-Stamp ( e1 , e2)\n",
      "Error:p_relation row2051\n",
      "Message-Origin(e1,e2)\n",
      "Error:p_relation row2081\n",
      "Time-Scale(e1,e2)\n",
      "Error:p_relation row2311\n",
      "Cause-Effect(e1,e\n",
      "[454, 850, 919, 960, 1409, 1437, 1487, 1534, 1546, 1617, 1625, 1686, 1796, 1836, 1864, 1876, 1894, 1965, 2015, 2026, 2051, 2081, 2311]\n"
     ]
    }
   ],
   "source": [
    "x=[]\n",
    "for i in range(len(data)):\n",
    "    if data['a_relation'][i] not in rlt:\n",
    "        print(\"Error:a_relation\"+str(i))\n",
    "    if data['p_relation'][i] not in rlt:\n",
    "        print(\"Error:p_relation row\"+str(i))\n",
    "        print(data['p_relation'][i])\n",
    "        x.append(i)\n",
    "print(x)"
   ]
  },
  {
   "cell_type": "code",
   "execution_count": 36,
   "metadata": {},
   "outputs": [],
   "source": [
    "data2 = data.iloc[x]\n",
    "data2.to_csv('data/weird_predict.csv')"
   ]
  },
  {
   "cell_type": "code",
   "execution_count": 15,
   "metadata": {},
   "outputs": [],
   "source": [
    "# all kind of relation extraction\n",
    "rlt = [\"Component-Whole(e2,e1)\",\n",
    "    \"Other\",\n",
    "    \"Instrument-Agency(e2,e1)\",\n",
    "    \"Member-Collection(e1,e2)\",\n",
    "    \"Cause-Effect(e2,e1)\",\n",
    "    \"Entity-Destination(e1,e2)\",\n",
    "    \"Content-Container(e1,e2)\",\n",
    "    \"Message-Topic(e1,e2)\",\n",
    "    \"Product-Producer(e2,e1)\",\n",
    "    \"Member-Collection(e2,e1)\",\n",
    "    \"Entity-Origin(e1,e2)\",\n",
    "    \"Cause-Effect(e1,e2)\",\n",
    "    \"Component-Whole(e1,e2)\",\n",
    "    \"Message-Topic(e2,e1)\",\n",
    "    \"Product-Producer(e1,e2)\",\n",
    "    \"Entity-Origin(e2,e1)\",\n",
    "    \"Content-Container(e2,e1)\",\n",
    "    \"Instrument-Agency(e1,e2)\",\n",
    "    \"Entity-Destination(e2,e1)\"]\n",
    "#rlt = ['Other','Message-Topic(e1,e2)']"
   ]
  },
  {
   "cell_type": "markdown",
   "metadata": {},
   "source": [
    "##### 在xxx关系的eval中：\n",
    "correct_by_relation表示：关系相同，进行计数（TP）；\n",
    "\n",
    "guessed_by_relation表示：预测显示有关系则全部进行计数（TP+FP）；\n",
    "\n",
    "gold_by_relation：实际标签显示有关系则全部进行计数（TP+FN）。"
   ]
  },
  {
   "cell_type": "code",
   "execution_count": 19,
   "metadata": {},
   "outputs": [
    {
     "data": {
      "text/plain": [
       "\"ans = data['ans'][0]\\nans['h']\""
      ]
     },
     "execution_count": 19,
     "metadata": {},
     "output_type": "execute_result"
    }
   ],
   "source": [
    "'''ans = data['ans'][0]\n",
    "ans['h']'''"
   ]
  },
  {
   "cell_type": "code",
   "execution_count": 16,
   "metadata": {},
   "outputs": [
    {
     "name": "stdout",
     "output_type": "stream",
     "text": [
      "{'Component-Whole(e2,e1)': [125, 181, 150], 'Other': [151, 257, 454], 'Instrument-Agency(e2,e1)': [115, 160, 134], 'Member-Collection(e1,e2)': [25, 46, 32], 'Cause-Effect(e2,e1)': [166, 194, 194], 'Entity-Destination(e1,e2)': [245, 330, 291], 'Content-Container(e1,e2)': [91, 101, 153], 'Message-Topic(e1,e2)': [178, 206, 210], 'Product-Producer(e2,e1)': [107, 139, 123], 'Member-Collection(e2,e1)': [189, 239, 201], 'Entity-Origin(e1,e2)': [154, 270, 211], 'Cause-Effect(e1,e2)': [116, 135, 134], 'Component-Whole(e1,e2)': [140, 177, 162], 'Message-Topic(e2,e1)': [27, 32, 51], 'Product-Producer(e1,e2)': [82, 105, 108], 'Entity-Origin(e2,e1)': [31, 33, 47], 'Content-Container(e2,e1)': [34, 42, 39], 'Instrument-Agency(e1,e2)': [19, 46, 22], 'Entity-Destination(e2,e1)': [0, 1, 1]}\n"
     ]
    }
   ],
   "source": [
    "# TP, TP+FP, TP+TN\n",
    "result = dict()\n",
    "#r = \"Message-Topic(e1,e2)\"\n",
    "for r in rlt:\n",
    "    guessed_by_relation = len(data[data['p_relation']==r])\n",
    "    gold_by_relation = len(data[data['a_relation']==r])\n",
    "    #same_relation_diff_element = 0\n",
    "    df = data[(data['p_relation']==r) & (data['a_relation']==r)].reset_index(drop=True)\n",
    "    correct_by_relation = len(df)\n",
    "    result[r] = [correct_by_relation, guessed_by_relation, gold_by_relation] # TP, TP+FP, TP+FN\n",
    "\n",
    "print(result)\n"
   ]
  },
  {
   "cell_type": "code",
   "execution_count": 17,
   "metadata": {},
   "outputs": [
    {
     "name": "stdout",
     "output_type": "stream",
     "text": [
      "{'Component-Whole(e2,e1)': [0.69, 0.83, 0.75], 'Other': [0.59, 0.33, 0.42], 'Instrument-Agency(e2,e1)': [0.72, 0.86, 0.78], 'Member-Collection(e1,e2)': [0.54, 0.78, 0.64], 'Cause-Effect(e2,e1)': [0.86, 0.86, 0.86], 'Entity-Destination(e1,e2)': [0.74, 0.84, 0.79], 'Content-Container(e1,e2)': [0.9, 0.59, 0.71], 'Message-Topic(e1,e2)': [0.86, 0.85, 0.85], 'Product-Producer(e2,e1)': [0.77, 0.87, 0.82], 'Member-Collection(e2,e1)': [0.79, 0.94, 0.86], 'Entity-Origin(e1,e2)': [0.57, 0.73, 0.64], 'Cause-Effect(e1,e2)': [0.86, 0.87, 0.86], 'Component-Whole(e1,e2)': [0.79, 0.86, 0.82], 'Message-Topic(e2,e1)': [0.84, 0.53, 0.65], 'Product-Producer(e1,e2)': [0.78, 0.76, 0.77], 'Entity-Origin(e2,e1)': [0.94, 0.66, 0.78], 'Content-Container(e2,e1)': [0.81, 0.87, 0.84], 'Instrument-Agency(e1,e2)': [0.41, 0.86, 0.56], 'Entity-Destination(e2,e1)': [0.0, 0.0, 0]}\n"
     ]
    }
   ],
   "source": [
    "# evaluation\n",
    "evaluation = dict()\n",
    "for k in result:\n",
    "    precision = round(result[k][0]/result[k][1],2)\n",
    "    recall = round(result[k][0]/result[k][2],2)\n",
    "    if precision+recall == 0:\n",
    "        f1 = 0\n",
    "    else:\n",
    "        f1 = round((2*precision*recall)/(precision+recall),2)\n",
    "    evaluation[k] = [precision, recall, f1] #p, r, f1\n",
    "\n",
    "print(evaluation)"
   ]
  },
  {
   "cell_type": "code",
   "execution_count": 18,
   "metadata": {},
   "outputs": [
    {
     "name": "stdout",
     "output_type": "stream",
     "text": [
      "p_macro: 0.71\n",
      "r_macro: 0.73\n",
      "f1_macro: 0.71\n"
     ]
    }
   ],
   "source": [
    "# macro p, r, f1\n",
    "p_macro_lst = [value[0] for value in evaluation.values()]\n",
    "p_macro = round(sum(p_macro_lst)/len(p_macro_lst),2)\n",
    "r_macro_lst = [value[1] for value in evaluation.values()]\n",
    "r_macro = round(sum(r_macro_lst)/len(r_macro_lst),2)\n",
    "f1_macro_lst = [value[2] for value in evaluation.values()]\n",
    "f1_macro = round(sum(f1_macro_lst)/len(f1_macro_lst),2)\n",
    "print('p_macro: ' + str(p_macro))\n",
    "print('r_macro: ' + str(r_macro))\n",
    "print('f1_macro: ' + str(f1_macro))"
   ]
  },
  {
   "cell_type": "code",
   "execution_count": 19,
   "metadata": {},
   "outputs": [
    {
     "name": "stdout",
     "output_type": "stream",
     "text": [
      "p_micro: 0.74\n",
      "r_micro: 0.73\n",
      "f1_micro: 0.73\n"
     ]
    }
   ],
   "source": [
    "# micro p, r, f1\n",
    "TP_lst = [value[0] for value in result.values()]\n",
    "TPFP_lst = [value[1] for value in result.values()]\n",
    "TPTN_lst = [value[2] for value in result.values()]\n",
    "p_micro = round(sum(TP_lst)/sum(TPFP_lst),2)\n",
    "r_micro = round(sum(TP_lst)/sum(TPTN_lst),2)\n",
    "f1_micro = round((2*p_micro*r_micro)/(p_micro+r_micro),2)\n",
    "print('p_micro: ' + str(p_micro))\n",
    "print('r_micro: ' + str(r_micro))\n",
    "print('f1_micro: ' + str(f1_micro))"
   ]
  },
  {
   "cell_type": "code",
   "execution_count": 21,
   "metadata": {},
   "outputs": [
    {
     "data": {
      "text/html": [
       "<div>\n",
       "<style scoped>\n",
       "    .dataframe tbody tr th:only-of-type {\n",
       "        vertical-align: middle;\n",
       "    }\n",
       "\n",
       "    .dataframe tbody tr th {\n",
       "        vertical-align: top;\n",
       "    }\n",
       "\n",
       "    .dataframe thead th {\n",
       "        text-align: right;\n",
       "    }\n",
       "</style>\n",
       "<table border=\"1\" class=\"dataframe\">\n",
       "  <thead>\n",
       "    <tr style=\"text-align: right;\">\n",
       "      <th></th>\n",
       "      <th>relation</th>\n",
       "      <th>TP</th>\n",
       "      <th>TP+FP</th>\n",
       "      <th>TP+TN</th>\n",
       "    </tr>\n",
       "  </thead>\n",
       "  <tbody>\n",
       "    <tr>\n",
       "      <th>0</th>\n",
       "      <td>Component-Whole(e2,e1)</td>\n",
       "      <td>125</td>\n",
       "      <td>181</td>\n",
       "      <td>150</td>\n",
       "    </tr>\n",
       "    <tr>\n",
       "      <th>1</th>\n",
       "      <td>Other</td>\n",
       "      <td>151</td>\n",
       "      <td>257</td>\n",
       "      <td>454</td>\n",
       "    </tr>\n",
       "    <tr>\n",
       "      <th>2</th>\n",
       "      <td>Instrument-Agency(e2,e1)</td>\n",
       "      <td>115</td>\n",
       "      <td>160</td>\n",
       "      <td>134</td>\n",
       "    </tr>\n",
       "    <tr>\n",
       "      <th>3</th>\n",
       "      <td>Member-Collection(e1,e2)</td>\n",
       "      <td>25</td>\n",
       "      <td>46</td>\n",
       "      <td>32</td>\n",
       "    </tr>\n",
       "    <tr>\n",
       "      <th>4</th>\n",
       "      <td>Cause-Effect(e2,e1)</td>\n",
       "      <td>166</td>\n",
       "      <td>194</td>\n",
       "      <td>194</td>\n",
       "    </tr>\n",
       "    <tr>\n",
       "      <th>5</th>\n",
       "      <td>Entity-Destination(e1,e2)</td>\n",
       "      <td>245</td>\n",
       "      <td>330</td>\n",
       "      <td>291</td>\n",
       "    </tr>\n",
       "    <tr>\n",
       "      <th>6</th>\n",
       "      <td>Content-Container(e1,e2)</td>\n",
       "      <td>91</td>\n",
       "      <td>101</td>\n",
       "      <td>153</td>\n",
       "    </tr>\n",
       "    <tr>\n",
       "      <th>7</th>\n",
       "      <td>Message-Topic(e1,e2)</td>\n",
       "      <td>178</td>\n",
       "      <td>206</td>\n",
       "      <td>210</td>\n",
       "    </tr>\n",
       "    <tr>\n",
       "      <th>8</th>\n",
       "      <td>Product-Producer(e2,e1)</td>\n",
       "      <td>107</td>\n",
       "      <td>139</td>\n",
       "      <td>123</td>\n",
       "    </tr>\n",
       "    <tr>\n",
       "      <th>9</th>\n",
       "      <td>Member-Collection(e2,e1)</td>\n",
       "      <td>189</td>\n",
       "      <td>239</td>\n",
       "      <td>201</td>\n",
       "    </tr>\n",
       "    <tr>\n",
       "      <th>10</th>\n",
       "      <td>Entity-Origin(e1,e2)</td>\n",
       "      <td>154</td>\n",
       "      <td>270</td>\n",
       "      <td>211</td>\n",
       "    </tr>\n",
       "    <tr>\n",
       "      <th>11</th>\n",
       "      <td>Cause-Effect(e1,e2)</td>\n",
       "      <td>116</td>\n",
       "      <td>135</td>\n",
       "      <td>134</td>\n",
       "    </tr>\n",
       "    <tr>\n",
       "      <th>12</th>\n",
       "      <td>Component-Whole(e1,e2)</td>\n",
       "      <td>140</td>\n",
       "      <td>177</td>\n",
       "      <td>162</td>\n",
       "    </tr>\n",
       "    <tr>\n",
       "      <th>13</th>\n",
       "      <td>Message-Topic(e2,e1)</td>\n",
       "      <td>27</td>\n",
       "      <td>32</td>\n",
       "      <td>51</td>\n",
       "    </tr>\n",
       "    <tr>\n",
       "      <th>14</th>\n",
       "      <td>Product-Producer(e1,e2)</td>\n",
       "      <td>82</td>\n",
       "      <td>105</td>\n",
       "      <td>108</td>\n",
       "    </tr>\n",
       "    <tr>\n",
       "      <th>15</th>\n",
       "      <td>Entity-Origin(e2,e1)</td>\n",
       "      <td>31</td>\n",
       "      <td>33</td>\n",
       "      <td>47</td>\n",
       "    </tr>\n",
       "    <tr>\n",
       "      <th>16</th>\n",
       "      <td>Content-Container(e2,e1)</td>\n",
       "      <td>34</td>\n",
       "      <td>42</td>\n",
       "      <td>39</td>\n",
       "    </tr>\n",
       "    <tr>\n",
       "      <th>17</th>\n",
       "      <td>Instrument-Agency(e1,e2)</td>\n",
       "      <td>19</td>\n",
       "      <td>46</td>\n",
       "      <td>22</td>\n",
       "    </tr>\n",
       "    <tr>\n",
       "      <th>18</th>\n",
       "      <td>Entity-Destination(e2,e1)</td>\n",
       "      <td>0</td>\n",
       "      <td>1</td>\n",
       "      <td>1</td>\n",
       "    </tr>\n",
       "  </tbody>\n",
       "</table>\n",
       "</div>"
      ],
      "text/plain": [
       "                     relation   TP  TP+FP  TP+TN\n",
       "0      Component-Whole(e2,e1)  125    181    150\n",
       "1                       Other  151    257    454\n",
       "2    Instrument-Agency(e2,e1)  115    160    134\n",
       "3    Member-Collection(e1,e2)   25     46     32\n",
       "4         Cause-Effect(e2,e1)  166    194    194\n",
       "5   Entity-Destination(e1,e2)  245    330    291\n",
       "6    Content-Container(e1,e2)   91    101    153\n",
       "7        Message-Topic(e1,e2)  178    206    210\n",
       "8     Product-Producer(e2,e1)  107    139    123\n",
       "9    Member-Collection(e2,e1)  189    239    201\n",
       "10       Entity-Origin(e1,e2)  154    270    211\n",
       "11        Cause-Effect(e1,e2)  116    135    134\n",
       "12     Component-Whole(e1,e2)  140    177    162\n",
       "13       Message-Topic(e2,e1)   27     32     51\n",
       "14    Product-Producer(e1,e2)   82    105    108\n",
       "15       Entity-Origin(e2,e1)   31     33     47\n",
       "16   Content-Container(e2,e1)   34     42     39\n",
       "17   Instrument-Agency(e1,e2)   19     46     22\n",
       "18  Entity-Destination(e2,e1)    0      1      1"
      ]
     },
     "execution_count": 21,
     "metadata": {},
     "output_type": "execute_result"
    }
   ],
   "source": [
    "# result for each relation\n",
    "pd_result = pd.DataFrame(result.items(), columns=['relation','result'])\n",
    "pd_result[['TP','TP+FP','TP+TN']] = pd.DataFrame(pd_result['result'].tolist())\n",
    "pd_result = pd_result.drop('result', axis=1)\n",
    "pd_result"
   ]
  },
  {
   "cell_type": "code",
   "execution_count": 25,
   "metadata": {},
   "outputs": [
    {
     "ename": "ModuleNotFoundError",
     "evalue": "No module named 'openpyxl'",
     "output_type": "error",
     "traceback": [
      "\u001b[0;31m---------------------------------------------------------------------------\u001b[0m",
      "\u001b[0;31mModuleNotFoundError\u001b[0m                       Traceback (most recent call last)",
      "Cell \u001b[0;32mIn[25], line 1\u001b[0m\n\u001b[0;32m----> 1\u001b[0m \u001b[43mpd_result\u001b[49m\u001b[38;5;241;43m.\u001b[39;49m\u001b[43mto_excel\u001b[49m\u001b[43m(\u001b[49m\u001b[38;5;124;43m'\u001b[39;49m\u001b[38;5;124;43mdata/test_predict_result_c6k.xlsx\u001b[39;49m\u001b[38;5;124;43m'\u001b[39;49m\u001b[43m,\u001b[49m\u001b[43mindex\u001b[49m\u001b[38;5;241;43m=\u001b[39;49m\u001b[38;5;28;43;01mFalse\u001b[39;49;00m\u001b[43m)\u001b[49m\n",
      "File \u001b[0;32m~/miniconda3/envs/gemma/lib/python3.8/site-packages/pandas/core/generic.py:2252\u001b[0m, in \u001b[0;36mNDFrame.to_excel\u001b[0;34m(self, excel_writer, sheet_name, na_rep, float_format, columns, header, index, index_label, startrow, startcol, engine, merge_cells, inf_rep, freeze_panes, storage_options)\u001b[0m\n\u001b[1;32m   2239\u001b[0m \u001b[38;5;28;01mfrom\u001b[39;00m \u001b[38;5;21;01mpandas\u001b[39;00m\u001b[38;5;21;01m.\u001b[39;00m\u001b[38;5;21;01mio\u001b[39;00m\u001b[38;5;21;01m.\u001b[39;00m\u001b[38;5;21;01mformats\u001b[39;00m\u001b[38;5;21;01m.\u001b[39;00m\u001b[38;5;21;01mexcel\u001b[39;00m \u001b[38;5;28;01mimport\u001b[39;00m ExcelFormatter\n\u001b[1;32m   2241\u001b[0m formatter \u001b[38;5;241m=\u001b[39m ExcelFormatter(\n\u001b[1;32m   2242\u001b[0m     df,\n\u001b[1;32m   2243\u001b[0m     na_rep\u001b[38;5;241m=\u001b[39mna_rep,\n\u001b[0;32m   (...)\u001b[0m\n\u001b[1;32m   2250\u001b[0m     inf_rep\u001b[38;5;241m=\u001b[39minf_rep,\n\u001b[1;32m   2251\u001b[0m )\n\u001b[0;32m-> 2252\u001b[0m \u001b[43mformatter\u001b[49m\u001b[38;5;241;43m.\u001b[39;49m\u001b[43mwrite\u001b[49m\u001b[43m(\u001b[49m\n\u001b[1;32m   2253\u001b[0m \u001b[43m    \u001b[49m\u001b[43mexcel_writer\u001b[49m\u001b[43m,\u001b[49m\n\u001b[1;32m   2254\u001b[0m \u001b[43m    \u001b[49m\u001b[43msheet_name\u001b[49m\u001b[38;5;241;43m=\u001b[39;49m\u001b[43msheet_name\u001b[49m\u001b[43m,\u001b[49m\n\u001b[1;32m   2255\u001b[0m \u001b[43m    \u001b[49m\u001b[43mstartrow\u001b[49m\u001b[38;5;241;43m=\u001b[39;49m\u001b[43mstartrow\u001b[49m\u001b[43m,\u001b[49m\n\u001b[1;32m   2256\u001b[0m \u001b[43m    \u001b[49m\u001b[43mstartcol\u001b[49m\u001b[38;5;241;43m=\u001b[39;49m\u001b[43mstartcol\u001b[49m\u001b[43m,\u001b[49m\n\u001b[1;32m   2257\u001b[0m \u001b[43m    \u001b[49m\u001b[43mfreeze_panes\u001b[49m\u001b[38;5;241;43m=\u001b[39;49m\u001b[43mfreeze_panes\u001b[49m\u001b[43m,\u001b[49m\n\u001b[1;32m   2258\u001b[0m \u001b[43m    \u001b[49m\u001b[43mengine\u001b[49m\u001b[38;5;241;43m=\u001b[39;49m\u001b[43mengine\u001b[49m\u001b[43m,\u001b[49m\n\u001b[1;32m   2259\u001b[0m \u001b[43m    \u001b[49m\u001b[43mstorage_options\u001b[49m\u001b[38;5;241;43m=\u001b[39;49m\u001b[43mstorage_options\u001b[49m\u001b[43m,\u001b[49m\n\u001b[1;32m   2260\u001b[0m \u001b[43m\u001b[49m\u001b[43m)\u001b[49m\n",
      "File \u001b[0;32m~/miniconda3/envs/gemma/lib/python3.8/site-packages/pandas/io/formats/excel.py:934\u001b[0m, in \u001b[0;36mExcelFormatter.write\u001b[0;34m(self, writer, sheet_name, startrow, startcol, freeze_panes, engine, storage_options)\u001b[0m\n\u001b[1;32m    930\u001b[0m     need_save \u001b[38;5;241m=\u001b[39m \u001b[38;5;28;01mFalse\u001b[39;00m\n\u001b[1;32m    931\u001b[0m \u001b[38;5;28;01melse\u001b[39;00m:\n\u001b[1;32m    932\u001b[0m     \u001b[38;5;66;03m# error: Cannot instantiate abstract class 'ExcelWriter' with abstract\u001b[39;00m\n\u001b[1;32m    933\u001b[0m     \u001b[38;5;66;03m# attributes 'engine', 'save', 'supported_extensions' and 'write_cells'\u001b[39;00m\n\u001b[0;32m--> 934\u001b[0m     writer \u001b[38;5;241m=\u001b[39m \u001b[43mExcelWriter\u001b[49m\u001b[43m(\u001b[49m\u001b[43m  \u001b[49m\u001b[38;5;66;43;03m# type: ignore[abstract]\u001b[39;49;00m\n\u001b[1;32m    935\u001b[0m \u001b[43m        \u001b[49m\u001b[43mwriter\u001b[49m\u001b[43m,\u001b[49m\u001b[43m \u001b[49m\u001b[43mengine\u001b[49m\u001b[38;5;241;43m=\u001b[39;49m\u001b[43mengine\u001b[49m\u001b[43m,\u001b[49m\u001b[43m \u001b[49m\u001b[43mstorage_options\u001b[49m\u001b[38;5;241;43m=\u001b[39;49m\u001b[43mstorage_options\u001b[49m\n\u001b[1;32m    936\u001b[0m \u001b[43m    \u001b[49m\u001b[43m)\u001b[49m\n\u001b[1;32m    937\u001b[0m     need_save \u001b[38;5;241m=\u001b[39m \u001b[38;5;28;01mTrue\u001b[39;00m\n\u001b[1;32m    939\u001b[0m \u001b[38;5;28;01mtry\u001b[39;00m:\n",
      "File \u001b[0;32m~/miniconda3/envs/gemma/lib/python3.8/site-packages/pandas/io/excel/_openpyxl.py:56\u001b[0m, in \u001b[0;36mOpenpyxlWriter.__init__\u001b[0;34m(self, path, engine, date_format, datetime_format, mode, storage_options, if_sheet_exists, engine_kwargs, **kwargs)\u001b[0m\n\u001b[1;32m     43\u001b[0m \u001b[38;5;28;01mdef\u001b[39;00m \u001b[38;5;21m__init__\u001b[39m(\n\u001b[1;32m     44\u001b[0m     \u001b[38;5;28mself\u001b[39m,\n\u001b[1;32m     45\u001b[0m     path: FilePath \u001b[38;5;241m|\u001b[39m WriteExcelBuffer \u001b[38;5;241m|\u001b[39m ExcelWriter,\n\u001b[0;32m   (...)\u001b[0m\n\u001b[1;32m     54\u001b[0m ) \u001b[38;5;241m-\u001b[39m\u001b[38;5;241m>\u001b[39m \u001b[38;5;28;01mNone\u001b[39;00m:\n\u001b[1;32m     55\u001b[0m     \u001b[38;5;66;03m# Use the openpyxl module as the Excel writer.\u001b[39;00m\n\u001b[0;32m---> 56\u001b[0m     \u001b[38;5;28;01mfrom\u001b[39;00m \u001b[38;5;21;01mopenpyxl\u001b[39;00m\u001b[38;5;21;01m.\u001b[39;00m\u001b[38;5;21;01mworkbook\u001b[39;00m \u001b[38;5;28;01mimport\u001b[39;00m Workbook\n\u001b[1;32m     58\u001b[0m     engine_kwargs \u001b[38;5;241m=\u001b[39m combine_kwargs(engine_kwargs, kwargs)\n\u001b[1;32m     60\u001b[0m     \u001b[38;5;28msuper\u001b[39m()\u001b[38;5;241m.\u001b[39m\u001b[38;5;21m__init__\u001b[39m(\n\u001b[1;32m     61\u001b[0m         path,\n\u001b[1;32m     62\u001b[0m         mode\u001b[38;5;241m=\u001b[39mmode,\n\u001b[0;32m   (...)\u001b[0m\n\u001b[1;32m     65\u001b[0m         engine_kwargs\u001b[38;5;241m=\u001b[39mengine_kwargs,\n\u001b[1;32m     66\u001b[0m     )\n",
      "\u001b[0;31mModuleNotFoundError\u001b[0m: No module named 'openpyxl'"
     ]
    }
   ],
   "source": [
    "pd_result.to_csv('data/test_predict_result_c6k.csv',index=False)"
   ]
  },
  {
   "cell_type": "code",
   "execution_count": 23,
   "metadata": {},
   "outputs": [
    {
     "data": {
      "text/html": [
       "<div>\n",
       "<style scoped>\n",
       "    .dataframe tbody tr th:only-of-type {\n",
       "        vertical-align: middle;\n",
       "    }\n",
       "\n",
       "    .dataframe tbody tr th {\n",
       "        vertical-align: top;\n",
       "    }\n",
       "\n",
       "    .dataframe thead th {\n",
       "        text-align: right;\n",
       "    }\n",
       "</style>\n",
       "<table border=\"1\" class=\"dataframe\">\n",
       "  <thead>\n",
       "    <tr style=\"text-align: right;\">\n",
       "      <th></th>\n",
       "      <th>relation</th>\n",
       "      <th>precision</th>\n",
       "      <th>recall</th>\n",
       "      <th>f1</th>\n",
       "    </tr>\n",
       "  </thead>\n",
       "  <tbody>\n",
       "    <tr>\n",
       "      <th>0</th>\n",
       "      <td>Component-Whole(e2,e1)</td>\n",
       "      <td>0.69</td>\n",
       "      <td>0.83</td>\n",
       "      <td>0.75</td>\n",
       "    </tr>\n",
       "    <tr>\n",
       "      <th>1</th>\n",
       "      <td>Other</td>\n",
       "      <td>0.59</td>\n",
       "      <td>0.33</td>\n",
       "      <td>0.42</td>\n",
       "    </tr>\n",
       "    <tr>\n",
       "      <th>2</th>\n",
       "      <td>Instrument-Agency(e2,e1)</td>\n",
       "      <td>0.72</td>\n",
       "      <td>0.86</td>\n",
       "      <td>0.78</td>\n",
       "    </tr>\n",
       "    <tr>\n",
       "      <th>3</th>\n",
       "      <td>Member-Collection(e1,e2)</td>\n",
       "      <td>0.54</td>\n",
       "      <td>0.78</td>\n",
       "      <td>0.64</td>\n",
       "    </tr>\n",
       "    <tr>\n",
       "      <th>4</th>\n",
       "      <td>Cause-Effect(e2,e1)</td>\n",
       "      <td>0.86</td>\n",
       "      <td>0.86</td>\n",
       "      <td>0.86</td>\n",
       "    </tr>\n",
       "    <tr>\n",
       "      <th>5</th>\n",
       "      <td>Entity-Destination(e1,e2)</td>\n",
       "      <td>0.74</td>\n",
       "      <td>0.84</td>\n",
       "      <td>0.79</td>\n",
       "    </tr>\n",
       "    <tr>\n",
       "      <th>6</th>\n",
       "      <td>Content-Container(e1,e2)</td>\n",
       "      <td>0.90</td>\n",
       "      <td>0.59</td>\n",
       "      <td>0.71</td>\n",
       "    </tr>\n",
       "    <tr>\n",
       "      <th>7</th>\n",
       "      <td>Message-Topic(e1,e2)</td>\n",
       "      <td>0.86</td>\n",
       "      <td>0.85</td>\n",
       "      <td>0.85</td>\n",
       "    </tr>\n",
       "    <tr>\n",
       "      <th>8</th>\n",
       "      <td>Product-Producer(e2,e1)</td>\n",
       "      <td>0.77</td>\n",
       "      <td>0.87</td>\n",
       "      <td>0.82</td>\n",
       "    </tr>\n",
       "    <tr>\n",
       "      <th>9</th>\n",
       "      <td>Member-Collection(e2,e1)</td>\n",
       "      <td>0.79</td>\n",
       "      <td>0.94</td>\n",
       "      <td>0.86</td>\n",
       "    </tr>\n",
       "    <tr>\n",
       "      <th>10</th>\n",
       "      <td>Entity-Origin(e1,e2)</td>\n",
       "      <td>0.57</td>\n",
       "      <td>0.73</td>\n",
       "      <td>0.64</td>\n",
       "    </tr>\n",
       "    <tr>\n",
       "      <th>11</th>\n",
       "      <td>Cause-Effect(e1,e2)</td>\n",
       "      <td>0.86</td>\n",
       "      <td>0.87</td>\n",
       "      <td>0.86</td>\n",
       "    </tr>\n",
       "    <tr>\n",
       "      <th>12</th>\n",
       "      <td>Component-Whole(e1,e2)</td>\n",
       "      <td>0.79</td>\n",
       "      <td>0.86</td>\n",
       "      <td>0.82</td>\n",
       "    </tr>\n",
       "    <tr>\n",
       "      <th>13</th>\n",
       "      <td>Message-Topic(e2,e1)</td>\n",
       "      <td>0.84</td>\n",
       "      <td>0.53</td>\n",
       "      <td>0.65</td>\n",
       "    </tr>\n",
       "    <tr>\n",
       "      <th>14</th>\n",
       "      <td>Product-Producer(e1,e2)</td>\n",
       "      <td>0.78</td>\n",
       "      <td>0.76</td>\n",
       "      <td>0.77</td>\n",
       "    </tr>\n",
       "    <tr>\n",
       "      <th>15</th>\n",
       "      <td>Entity-Origin(e2,e1)</td>\n",
       "      <td>0.94</td>\n",
       "      <td>0.66</td>\n",
       "      <td>0.78</td>\n",
       "    </tr>\n",
       "    <tr>\n",
       "      <th>16</th>\n",
       "      <td>Content-Container(e2,e1)</td>\n",
       "      <td>0.81</td>\n",
       "      <td>0.87</td>\n",
       "      <td>0.84</td>\n",
       "    </tr>\n",
       "    <tr>\n",
       "      <th>17</th>\n",
       "      <td>Instrument-Agency(e1,e2)</td>\n",
       "      <td>0.41</td>\n",
       "      <td>0.86</td>\n",
       "      <td>0.56</td>\n",
       "    </tr>\n",
       "    <tr>\n",
       "      <th>18</th>\n",
       "      <td>Entity-Destination(e2,e1)</td>\n",
       "      <td>0.00</td>\n",
       "      <td>0.00</td>\n",
       "      <td>0.00</td>\n",
       "    </tr>\n",
       "  </tbody>\n",
       "</table>\n",
       "</div>"
      ],
      "text/plain": [
       "                     relation  precision  recall    f1\n",
       "0      Component-Whole(e2,e1)       0.69    0.83  0.75\n",
       "1                       Other       0.59    0.33  0.42\n",
       "2    Instrument-Agency(e2,e1)       0.72    0.86  0.78\n",
       "3    Member-Collection(e1,e2)       0.54    0.78  0.64\n",
       "4         Cause-Effect(e2,e1)       0.86    0.86  0.86\n",
       "5   Entity-Destination(e1,e2)       0.74    0.84  0.79\n",
       "6    Content-Container(e1,e2)       0.90    0.59  0.71\n",
       "7        Message-Topic(e1,e2)       0.86    0.85  0.85\n",
       "8     Product-Producer(e2,e1)       0.77    0.87  0.82\n",
       "9    Member-Collection(e2,e1)       0.79    0.94  0.86\n",
       "10       Entity-Origin(e1,e2)       0.57    0.73  0.64\n",
       "11        Cause-Effect(e1,e2)       0.86    0.87  0.86\n",
       "12     Component-Whole(e1,e2)       0.79    0.86  0.82\n",
       "13       Message-Topic(e2,e1)       0.84    0.53  0.65\n",
       "14    Product-Producer(e1,e2)       0.78    0.76  0.77\n",
       "15       Entity-Origin(e2,e1)       0.94    0.66  0.78\n",
       "16   Content-Container(e2,e1)       0.81    0.87  0.84\n",
       "17   Instrument-Agency(e1,e2)       0.41    0.86  0.56\n",
       "18  Entity-Destination(e2,e1)       0.00    0.00  0.00"
      ]
     },
     "execution_count": 23,
     "metadata": {},
     "output_type": "execute_result"
    }
   ],
   "source": [
    "# evaluation report for each relation\n",
    "pd_eval = pd.DataFrame(evaluation.items(), columns=['relation','eval'])\n",
    "pd_eval[['precision','recall','f1']] = pd.DataFrame(pd_eval['eval'].tolist())\n",
    "pd_eval = pd_eval.drop('eval', axis=1)\n",
    "pd_eval"
   ]
  },
  {
   "cell_type": "code",
   "execution_count": 24,
   "metadata": {},
   "outputs": [],
   "source": [
    "pd_eval.to_csv('data/test_predict_eval_c6k.csv',index=False)"
   ]
  }
 ],
 "metadata": {
  "kernelspec": {
   "display_name": "gemma",
   "language": "python",
   "name": "python3"
  },
  "language_info": {
   "codemirror_mode": {
    "name": "ipython",
    "version": 3
   },
   "file_extension": ".py",
   "mimetype": "text/x-python",
   "name": "python",
   "nbconvert_exporter": "python",
   "pygments_lexer": "ipython3",
   "version": "3.8.19"
  }
 },
 "nbformat": 4,
 "nbformat_minor": 2
}
